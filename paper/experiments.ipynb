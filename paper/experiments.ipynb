{
 "cells": [
  {
   "cell_type": "markdown",
   "metadata": {},
   "source": [
    "# Paper experiment runs\n",
    "\n",
    "We obtained [hg19](http://hgdownload.cse.ucsc.edu/goldenpath/hg19/bigZips/chromFa.tar.gz) and [mm8](http://hgdownload.cse.ucsc.edu/goldenpath/mm8/bigZips/chromFa.tar.gz) genomes from UCSC. Then we filtered out all `_random` and `unGl` chromosomes and patches from the final FASTA file. We used [hg19 WGAC calls](http://humanparalogy.gs.washington.edu/build37/data/GRCh37GenomicSuperDup.tab) and [mm8 WGAC calls](http://mouseparalogy.gs.washington.edu/She2008_download/WGAC.tab.gz) to compare SEDEF with WGAC.\n",
    "\n",
    "SEDEF ([release v1.1, git commit e603a5c](https://github.com/vpc-ccg/sedef/tree/1.1)) was run as follows:"
   ]
  },
  {
   "cell_type": "code",
   "execution_count": 1,
   "metadata": {},
   "outputs": [
    {
     "name": "stdout",
     "output_type": "stream",
     "text": [
      "Start: Tue Mar 27 14:03:48 PDT 2018\n",
      "************************************************************************\n",
      "SEDEF: FASTA=genome/hg19.fa; output=out/hg19_final; jobs=80; force=y\n",
      "************************************************************************\n",
      "Running SD seeding...\n",
      "Seeding time: 9:35.32\n",
      "SD seeding done: done running 600 jobs!\n",
      "Single-core running time: 11 hours (41359.2 seconds)\n",
      "Memory used: 4888 MB\n",
      "************************************************************************\n",
      "Running SD alignment...\n",
      "Aligning time: 4:16.41\n",
      "SD alignment done: finished 1000 jobs!\n",
      "Single-core running time: 5 hours (18742.5 seconds)\n",
      "Memory used: 7070 MB\n",
      "************************************************************************\n",
      "Running SD reporting...\n",
      "Processed hit 184,021 out of 184,021... done!\n",
      "Report time: 0:05.67 (758,872 MB, user 164.57)\n",
      "Line counts:\n",
      "   186400 out/hg19_final/aligned.bed\n",
      "    67882 out/hg19_final/final.bed\n",
      "  2248064 out/hg19_final/potentials.bed\n",
      "  2363898 out/hg19_final/seeds.bed\n",
      "************************************************************************\n",
      "End: Tue Mar 27 14:17:44 PDT 2018\n",
      "************************************************************************\n",
      "Comparing WGAC with SEDEF...\n",
      "WGAC:     24,477 (51,599 lines)\n",
      "Missed:       70 hits ( 0.3%)\n",
      "Partial:     337 hits ( 1.4%)\n",
      "Full:     24,070 hits (98.3%)\n",
      "SEDEF: spans               218,880,423\n",
      "       unique               60,002,912\n",
      "       unique (uppercase)   30,357,762\n",
      "       misses                  621,749\n",
      "       misses (uppercase)      119,318\n",
      "WGAC:  spans               159,499,260\n",
      "       intersects          158,877,511\n",
      "************************************************************************\n",
      "SEDEF done! Final SDs available in out/hg19_final/final.bed\n"
     ]
    }
   ],
   "source": [
    "!./sedef.sh -f -o out/hg19_final -j 80 genome/hg19.fa -w wgac/GRCh37GenomicSuperDup.tab"
   ]
  },
  {
   "cell_type": "code",
   "execution_count": 2,
   "metadata": {},
   "outputs": [
    {
     "name": "stdout",
     "output_type": "stream",
     "text": [
      "Start: Tue Mar 27 14:24:35 PDT 2018\n",
      "************************************************************************\n",
      "SEDEF: FASTA=genome/mm8.fa; output=out/mm8_final; jobs=80; force=y\n",
      "************************************************************************\n",
      "Running SD seeding...\n",
      "Seeding time: 10:20.74\n",
      "SD seeding done: done running 462 jobs!\n",
      "Single-core running time: 11 hours (40755.5 seconds)\n",
      "Memory used: 2925 MB\n",
      "************************************************************************\n",
      "Running SD alignment...\n",
      "Aligning time: 11:59.20\n",
      "SD alignment done: finished 1000 jobs!\n",
      "Single-core running time: 9 hours (35133.5 seconds)\n",
      "Memory used: 7048 MB\n",
      "************************************************************************\n",
      "Running SD reporting...\n",
      "Read 887,924 hits, wrote 0 SDs\n",
      "Report time: 1:47.61 (1874456 MB, user 825.22)\n",
      "   887924 out/mm8_final/aligned.bed\n",
      "   352991 out/mm8_final/final.bed\n",
      "  3215554 out/mm8_final/potentials.bed\n",
      "  3453215 out/mm8_final/seeds.bed\n",
      "***********************************************************************\n",
      "End: Tue Mar 27 14:54:35 PDT 2018\n",
      "************************************************************************\n",
      "Comparing WGAC with SEDEF...\n",
      "Missed:   16,471 hits (14.1%) (1992 after clean = 1.70)\n",
      "Partial:   2,604 hits ( 2.2%)\n",
      "Full:     98,138 hits (83.7%)\n",
      "SEDEF: spans               258,951,387\n",
      "       unique              119,621,060\n",
      "       unique (uppercase)   44,700,698\n",
      "       misses                1,485,615\n",
      "       misses (uppercase)      142,194\n",
      "WGAC:  spans               140,815,942\n",
      "       intersects          139,330,327\n",
      "************************************************************************\n",
      "SEDEF done! Final SDs available in out/mm8_final/final.bed\n"
     ]
    }
   ],
   "source": [
    "!./sedef.sh -f -o out/mm8_final -j 80 genome/mm8.fa -w wgac/WGAC.tab"
   ]
  },
  {
   "cell_type": "markdown",
   "metadata": {},
   "source": [
    "With default parameters (used in the paper), indexing k-mer size is 11, while seeding k-mer size is 12.\n",
    "\n",
    "Our script automatically compares SEDEF's results with WGAC (by passing WGAC file with `-w` parameter). The final calls are reported in `final.bed`, and SDs within this file were used for generating benchmark and comparison statistics. Timings were calculated by substracting `Start` and `End` timestamps (WGAC comparison was not timed).\n",
    "\n",
    "### Filtering spurious misses\n",
    "\n",
    "Since WGAC data contains many questinable calls, we filter out all calls which fail SEDEF's quality filters (e.g. number of uppercase letters, length etc) to make the comparison fair. In order to run this, you will need [SEDEF v1.1](https://github.com/vpc-ccg/sedef/tree/1.1) that was used to generate paper results (clean-up module, a.k.a. `wgac manual`, was removed in later versions).\n",
    "\n",
    "In the following command, WGAC data is stored in `WGAC_hg19.tab`, while SEDEF calls (used for generating WGAC calls that SEDEF cannot detect) are in `hg19/final.bed` (same for `mm8`). Note that file `final.misses.txt` is generated by `sedef.sh` if you pass it `-w` parameter as specified above.\n",
    "\n",
    "```bash\n",
    "for G in hg19 mm8 ; do\n",
    "    # Generate BED and alignments for WGAC miss entries\n",
    "    ./sedef wgac manual $G.fa x < $G/final.misses.txt > temp \n",
    "    # Run QC on these misses\n",
    "    ./sedef stats generate $G.fa temp |\\\n",
    "        sort -k1,1V -k9,9r -k10,10r -k4,4V -k2,2n -k3,3n -k5,5n -k6,6n |\\\n",
    "        uniq > $G.misses\n",
    "    # Count number of misses which passed QC\n",
    "    echo -ne $G\" \"; wc -l $G.misses\n",
    "done\n",
    "# Expected output:\n",
    "# hg19 47 hg19.misses\n",
    "# mm8 1992 mm8.misses\n",
    "```\n",
    "\n",
    "As can be seen, SEDEF misses for real only 1,992 SDs from mm8 (all other \"misses\" are filtered by quality control during `stats generate`."
   ]
  },
  {
   "cell_type": "markdown",
   "metadata": {},
   "source": [
    "## Comparison with other tools (hg19)\n",
    "\n",
    "Final calls of these tools are [available here](http://cb.csail.mit.edu/cb/sedef/other.tar.gz).\n",
    "\n",
    "### Minimap2\n",
    "\n",
    "[Minimap2 b81d455](https://github.com/lh3/minimap2/commit/b81d45510ef998762d7084eae93044d85c0a3b8a) was run as follows:\n",
    "\n",
    "```bash\n",
    "# Run minimap2\n",
    "for i in `seq 1 22` X Y; do for j in `seq 1 22` X Y; do\n",
    "    if ! [[ \"$j\" < \"$i\" ]]; then \n",
    "        echo minimap2 -cx asm5 -t8 --cs \"chr$i.fa\" \"chr$j.fa\" \"> chr$i-chr$j.paf\"\n",
    "    fi\n",
    "done ; done | parallel -j\n",
    "\n",
    "# Convert to BED\n",
    "cat *.paf | awk '\n",
    "    BEGIN{OFS=\"\\t\"} \n",
    "    { if (! ($1==$6 && $3==$8 && $4==$9)) { print $1, $3, $4, $6, $8, $9, $1\":\"$3, 0, \"+\", $5, $10 } }'\\\n",
    "    > minimap2.bed\n",
    "\n",
    "# Check SD overlap with WGAC\n",
    "bedtools pairtopair -a GRCh37GenomicSuperDup.bed -b minimap2.bed  | wc -l\n",
    "# 14039 hits out of 48931\n",
    "sort -k1,1 -k2,2n GRCh37GenomicSuperDup.bed | bedtools merge > wgac-regions.bed\n",
    "```\n",
    "\n",
    "### MUMmer/nucmer\n",
    "\n",
    "[MUMmer/nucmer v3.23](http://mummer.sourceforge.net) was run as follows:\n",
    "\n",
    "```bash\n",
    "# Run nucmer\n",
    "for i in `seq 1 22` X Y; do for j in `seq 1 22` X Y; do\n",
    "    if ! [[ \"$j\" < \"$i\" ]]; then \n",
    "        echo nucmer -p \"chr$i-chr$j\" \"$chr$i.fa\" \"$chr$j.fa\"\n",
    "    fi\n",
    "done ; done | parallel -j80mkdir nucmer\n",
    "\n",
    "# Convert to BED\n",
    "for i in *.delta; do\n",
    "    k8 ~/git/minimap2/misc/paftools.js delta2paf $i |\\ \n",
    "        awk 'BEGIN{OFS=\"\\t\"} \n",
    "        { if (! ($1==$6 && $3==$8 && $4==$9)) { print $1, $3, $4, $6, $8, $9, $1\":\"$3, 0, \"+\", $5, $10 } }' |\\\n",
    "        awk '{ if ($3-$2 >= 1000 || $6 - $5 >=1000) { print } }' > $i.bed\n",
    "done\n",
    "\n",
    "# Check SD/coverage overlap with WGAC\n",
    "cat *.delta.bed > nucmer.bed\n",
    "bedtools pairtopair -a GRCh37GenomicSuperDup.bed -b nucmer.bed | wc -l\n",
    "# 48337 out of 48931\n",
    "```\n",
    "\n",
    "### SDDetector\n",
    "\n",
    "[SDDetector 996b1d8](https://github.com/nlapalu/SDDetector/commit/996b1d89e5749aa3a0a2dd79165c066de0aa6c16) was run with BLAST 2.2.31+ as follows (note that you first need to run Nucmer as specified above):\n",
    "\n",
    "```bash\n",
    "blast_pairs() { # Requires nucmer results to mask the genome\n",
    "    for i in `seq 1 22` X Y; do\n",
    "        maskFastaFromBed -fi chr${i}.fa -fo chr${i}_masked.fa -bed nucmer.bed -soft\n",
    "        convert2blastmask -in \"chr${i}_masked.fa\" -parse_seqids -masking_algorithm TE \\\n",
    "            -masking_options \"TE\" -outfmt maskinfo_asn1_bin -out \"chr${i}_masked.asnb\"\n",
    "        makeblastdb -dbtype nucl -in \"chr${i}_masked.fa\" -out \"chr${i}_masked\" \\\n",
    "            -parse_seqids -mask_data \"chr${i}_masked.asnb\"\n",
    "    done\n",
    "\n",
    "    for i in `seq 1 22` X Y; do for j in `seq 1 22` X Y; do\n",
    "        if ! [[ \"$j\" < \"$i\" ]]; then\n",
    "            echo blastn -num_threads 20 -task megablast -db chr${j}_masked \\\n",
    "                -query chr${i}_masked.fa -out chr${i}_chr${j}_blast.tab \\\n",
    "                -outfmt \"6 qseqid sseqid qstart qend sstart send length nident\" \\\n",
    "                -db_soft_mask 100\n",
    "        fi\n",
    "    done ; done | parallel -j\n",
    "}\n",
    "\n",
    "# Run BLAST and SDDetector in parallel on each pair of chromosomes\n",
    "echo `date`: begin >> log.txt\n",
    "blast_pairs\n",
    "echo `date`: run jobs >> log.txt\n",
    "for i in `seq 1 22` X Y; do for j in `seq 1 22` X Y; do\n",
    "    if ! [[ \"$j\" < \"$i\" ]]; then\n",
    "        echo segmental_duplication_detector.py \\\n",
    "            chr${i}_chr${j}_blast.tab tab sdd.chr$i-chr$j.gff :memory: -g 600 -l 1000 -a --bed\n",
    "    fi\n",
    "done ; done | parallel -j\n",
    "echo `date`: finished >> log.txt\n",
    "\n",
    "# Get BED files\n",
    "cat *.gff | python gff2bedpe.py > sdd.all.bedpe\n",
    "cat sdd.all.bedpe | awk '{OFS=\"\\t\"; print $1,$2,$3; print $4,$5,$6;}' > sddetector.bed\n",
    "```\n",
    "\n",
    "where `gff2bedpe.py` is:\n",
    "\n",
    "```python\n",
    "import sys\n",
    "for line in sys.stdin:\n",
    "    row = line.strip().split(\"\\t\")\n",
    "    if row[2] == \"match_part\":\n",
    "        target = next(v for k, v in (p.split(\"=\", 1) for p in row[8].split(\";\")) if k == \"Target\")\n",
    "        target = target.split()\n",
    "        print(\"\\t\".join([row[0], row[3], row[4], target[0], target[1], target[2], row[1], row[5], \"+\", row[6]]))\n",
    "```\n",
    "\n",
    "### Comparison with WGAC\n",
    "\n",
    "We used SEDEF's diff tool to compare WGAC calls and BEDs generated by other tools as follows:\n",
    "\n",
    "```bash\n",
    "sedef stats diff hg19.fa minimap2.bed GRCh37GenomicSuperDup.tab\n",
    "# SEDEF reading done (in 10,029, miss 268,318)!\n",
    "# WGAC reading done!\n",
    "# SEDEF: spans                53,268,156\n",
    "#        unique                1,076,268\n",
    "#        unique (uppercase)      585,683\n",
    "#        misses              107,307,372\n",
    "#        misses (uppercase)   53,865,236\n",
    "# WGAC:  spans               159,499,260\n",
    "#        intersects           52,191,888\n",
    "\n",
    "sedef stats diff hg19.fa nucmer.bed GRCh37GenomicSuperDup.tab\n",
    "# SEDEF reading done (in 55,043, miss 11,359,114)!\n",
    "# WGAC reading done!\n",
    "# SEDEF: spans               142,568,754\n",
    "#        unique               13,893,354\n",
    "#        unique (uppercase)    8,067,967\n",
    "#        misses               30,823,860\n",
    "#        misses (uppercase)   14,221,542\n",
    "# WGAC:  spans               159,499,260\n",
    "#        intersects          128,675,400\n",
    "\n",
    "sedef stats diff hg19.fa sddetector.bed GRCh37GenomicSuperDup.tab\n",
    "# SEDEF reading done (in 7,092, miss 196)!\n",
    "# WGAC reading done!\n",
    "# SEDEF: spans                30,149,375\n",
    "#        unique                1,472,453\n",
    "#        unique (uppercase)      850,598\n",
    "#        misses              130,822,338\n",
    "#        misses (uppercase)   62,751,626\n",
    "# WGAC:  spans               159,499,260\n",
    "#        intersects           28,676,922\n",
    "```"
   ]
  },
  {
   "cell_type": "markdown",
   "metadata": {},
   "source": [
    "## Simulations \n",
    "\n",
    "`python/simulations.py` generates the simulated data used for SEDEF evaluation. \n",
    "SEDEF is called via its Python module located in `python` directory. To build please run\n",
    "\n",
    "```bash\n",
    "make -j -B libsedef # from the root\n",
    "cd python\n",
    "```\n",
    "\n",
    "Make sure to set `PYTHON_VERSION`, `PYTHON_INCLUDE`, `BOOST_LIB` and `BOOST_INC` variables if your Boost/Python are in non-standard directories. Consult `Makefile` for examples.\n",
    "\n",
    "We can get simulation results by running (within `python` directory):"
   ]
  },
  {
   "cell_type": "code",
   "execution_count": null,
   "metadata": {},
   "outputs": [],
   "source": [
    "!python2 simulations.py"
   ]
  },
  {
   "cell_type": "markdown",
   "metadata": {},
   "source": [
    "This generates 1,000 random sequences for each error rate ranging from 1 to 30 (totalling 30,000 simulations). You can generate random SDs from a given FASTA file (e.g. `chr1`) by commenting line 348 (near the end of the file in `__main__`) and uncommenting line 349. \n",
    "\n",
    "We can plot these results as follows. Note that results might not be 100% identical to those in the paper due to the different random seed, as I forgot to pre-set radnom seed initially. However, this does not change the nature of the results."
   ]
  },
  {
   "cell_type": "code",
   "execution_count": 7,
   "metadata": {},
   "outputs": [
    {
     "data": {
      "image/png": "[encoded data removed]",
      "text/plain": [
       "<matplotlib.figure.Figure at 0x110732dd0>"
      ]
     },
     "metadata": {},
     "output_type": "display_data"
    },
    {
     "data": {
      "text/plain": [
       "<ggplot: (285761481)>"
      ]
     },
     "execution_count": 7,
     "metadata": {},
     "output_type": "execute_result"
    }
   ],
   "source": [
    "import pandas as pd\n",
    "from plotnine import *\n",
    "\n",
    "df = pd.read_csv('output-rand.txt', sep=';', index_col=False)\n",
    "(ggplot(df, aes(x='error', y='hits')) +\n",
    " geom_line() + \n",
    " ylim(990,1000) +\n",
    " labs(x = u\"Edit error $\\delta$\", y=\"SDs detected by SEDEF\", title=\"SEDEF's performance on simulated SDs\") +\n",
    " theme_classic() +\n",
    " theme(text=element_text(family=['Helvetica']))\n",
    ")"
   ]
  },
  {
   "cell_type": "code",
   "execution_count": 6,
   "metadata": {},
   "outputs": [
    {
     "data": {
      "image/png": "[encoded data removed]",
      "text/plain": [
       "<matplotlib.figure.Figure at 0x110ba5190>"
      ]
     },
     "metadata": {},
     "output_type": "display_data"
    },
    {
     "data": {
      "text/plain": [
       "<ggplot: (285842817)>"
      ]
     },
     "execution_count": 6,
     "metadata": {},
     "output_type": "execute_result"
    }
   ],
   "source": [
    "df = pd.read_csv('output-chr1.txt', sep=';', index_col=False)\n",
    "(ggplot(df, aes(x='error', y='hits')) +\n",
    " geom_line() + \n",
    " ylim(994,1000) +\n",
    " labs(x = u\"Edit error $\\delta$\", y=\"SDs detected by SEDEF\", \n",
    "      title=\"SEDEF's performance on simulated SDs (chr1)\") +\n",
    " theme_classic() +\n",
    " theme(text=element_text(family=['Helvetica']))\n",
    ")"
   ]
  }
 ],
 "metadata": {
  "kernelspec": {
   "display_name": "Python 2",
   "language": "python",
   "name": "python2"
  },
  "language_info": {
   "codemirror_mode": {
    "name": "ipython",
    "version": 2
   },
   "file_extension": ".py",
   "mimetype": "text/x-python",
   "name": "python",
   "nbconvert_exporter": "python",
   "pygments_lexer": "ipython2",
   "version": "2.7.15"
  }
 },
 "nbformat": 4,
 "nbformat_minor": 2
}
