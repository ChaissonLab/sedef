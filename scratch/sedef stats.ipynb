{
 "cells": [
  {
   "cell_type": "code",
   "execution_count": 6,
   "metadata": {
    "collapsed": true
   },
   "outputs": [],
   "source": [
    "import pandas as pd\n",
    "import numpy as np\n",
    "import sys, re, os, glob\n",
    "from collections import *"
   ]
  },
  {
   "cell_type": "code",
   "execution_count": 8,
   "metadata": {},
   "outputs": [
    {
     "data": {
      "text/plain": [
       "51304566"
      ]
     },
     "execution_count": 8,
     "metadata": {},
     "output_type": "execute_result"
    }
   ],
   "source": [
    "chr_interest = 'chr22'\n",
    "reference = ''.join(l.strip().upper() \n",
    "                    for l in open(chr_interest + '.fa').readlines()[1:])\n",
    "len(reference)"
   ]
  },
  {
   "cell_type": "code",
   "execution_count": 9,
   "metadata": {
    "scrolled": true
   },
   "outputs": [
    {
     "name": "stdout",
     "output_type": "stream",
     "text": [
      "(258, 30)\n"
     ]
    },
    {
     "data": {
      "text/html": [
       "<div>\n",
       "<style>\n",
       "    .dataframe thead tr:only-child th {\n",
       "        text-align: right;\n",
       "    }\n",
       "\n",
       "    .dataframe thead th {\n",
       "        text-align: left;\n",
       "    }\n",
       "\n",
       "    .dataframe tbody tr th {\n",
       "        vertical-align: top;\n",
       "    }\n",
       "</style>\n",
       "<table border=\"1\" class=\"dataframe\">\n",
       "  <thead>\n",
       "    <tr style=\"text-align: right;\">\n",
       "      <th></th>\n",
       "      <th>chrom</th>\n",
       "      <th>chromStart</th>\n",
       "      <th>chromEnd</th>\n",
       "      <th>otherStart</th>\n",
       "      <th>otherEnd</th>\n",
       "      <th>fracMatchIndel</th>\n",
       "      <th>chromSize</th>\n",
       "    </tr>\n",
       "  </thead>\n",
       "  <tbody>\n",
       "    <tr>\n",
       "      <th>36882</th>\n",
       "      <td>chr22</td>\n",
       "      <td>16085070</td>\n",
       "      <td>16090861</td>\n",
       "      <td>16460104</td>\n",
       "      <td>16465880</td>\n",
       "      <td>0.967463</td>\n",
       "      <td>5791</td>\n",
       "    </tr>\n",
       "    <tr>\n",
       "      <th>36884</th>\n",
       "      <td>chr22</td>\n",
       "      <td>16170803</td>\n",
       "      <td>16174525</td>\n",
       "      <td>22663435</td>\n",
       "      <td>22667149</td>\n",
       "      <td>0.920356</td>\n",
       "      <td>3722</td>\n",
       "    </tr>\n",
       "    <tr>\n",
       "      <th>36886</th>\n",
       "      <td>chr22</td>\n",
       "      <td>16239131</td>\n",
       "      <td>16243489</td>\n",
       "      <td>16244049</td>\n",
       "      <td>16248400</td>\n",
       "      <td>0.925092</td>\n",
       "      <td>4358</td>\n",
       "    </tr>\n",
       "    <tr>\n",
       "      <th>36890</th>\n",
       "      <td>chr22</td>\n",
       "      <td>16472367</td>\n",
       "      <td>16478266</td>\n",
       "      <td>16878302</td>\n",
       "      <td>16884156</td>\n",
       "      <td>0.951157</td>\n",
       "      <td>5899</td>\n",
       "    </tr>\n",
       "    <tr>\n",
       "      <th>36896</th>\n",
       "      <td>chr22</td>\n",
       "      <td>17022038</td>\n",
       "      <td>17025489</td>\n",
       "      <td>17347878</td>\n",
       "      <td>17351328</td>\n",
       "      <td>0.965767</td>\n",
       "      <td>3451</td>\n",
       "    </tr>\n",
       "  </tbody>\n",
       "</table>\n",
       "</div>"
      ],
      "text/plain": [
       "       chrom  chromStart  chromEnd  otherStart  otherEnd  fracMatchIndel  \\\n",
       "36882  chr22    16085070  16090861    16460104  16465880        0.967463   \n",
       "36884  chr22    16170803  16174525    22663435  22667149        0.920356   \n",
       "36886  chr22    16239131  16243489    16244049  16248400        0.925092   \n",
       "36890  chr22    16472367  16478266    16878302  16884156        0.951157   \n",
       "36896  chr22    17022038  17025489    17347878  17351328        0.965767   \n",
       "\n",
       "       chromSize  \n",
       "36882       5791  \n",
       "36884       3722  \n",
       "36886       4358  \n",
       "36890       5899  \n",
       "36896       3451  "
      ]
     },
     "execution_count": 9,
     "metadata": {},
     "output_type": "execute_result"
    }
   ],
   "source": [
    "df = pd.read_table(\"GRCh37GenomicSuperDup.tab\")\n",
    "df = df[(df.chrom == chr_interest) & (df.otherChrom == chr_interest) & (df.chromStart < df.otherStart)]\n",
    "df['chromSize'] = df.chromEnd - df.chromStart\n",
    "print(df.shape)\n",
    "df = df[(df.strand == '+')].iloc[:, [0, 1, 2, 7, 8, -4, -1]]\n",
    "df.head()"
   ]
  },
  {
   "cell_type": "code",
   "execution_count": 11,
   "metadata": {},
   "outputs": [
    {
     "data": {
      "text/html": [
       "<div>\n",
       "<style>\n",
       "    .dataframe thead tr:only-child th {\n",
       "        text-align: right;\n",
       "    }\n",
       "\n",
       "    .dataframe thead th {\n",
       "        text-align: left;\n",
       "    }\n",
       "\n",
       "    .dataframe tbody tr th {\n",
       "        vertical-align: top;\n",
       "    }\n",
       "</style>\n",
       "<table border=\"1\" class=\"dataframe\">\n",
       "  <thead>\n",
       "    <tr style=\"text-align: right;\">\n",
       "      <th></th>\n",
       "      <th>chrom</th>\n",
       "      <th>chromStart</th>\n",
       "      <th>chromEnd</th>\n",
       "      <th>otherStart</th>\n",
       "      <th>otherEnd</th>\n",
       "      <th>fracMatchIndel</th>\n",
       "      <th>chromSize</th>\n",
       "    </tr>\n",
       "  </thead>\n",
       "  <tbody>\n",
       "  </tbody>\n",
       "</table>\n",
       "</div>"
      ],
      "text/plain": [
       "Empty DataFrame\n",
       "Columns: [chrom, chromStart, chromEnd, otherStart, otherEnd, fracMatchIndel, chromSize]\n",
       "Index: []"
      ]
     },
     "execution_count": 11,
     "metadata": {},
     "output_type": "execute_result"
    }
   ],
   "source": [
    "df[df.otherStart==404049]"
   ]
  },
  {
   "cell_type": "code",
   "execution_count": 10,
   "metadata": {
    "collapsed": true
   },
   "outputs": [],
   "source": [
    "hits = {}\n",
    "for _, r in df.iterrows():\n",
    "    hits[(r.chromStart, r.chromEnd, r.otherStart, r.otherEnd)] = list()"
   ]
  },
  {
   "cell_type": "code",
   "execution_count": 11,
   "metadata": {
    "collapsed": true
   },
   "outputs": [],
   "source": [
    "def diff(X, Y):\n",
    "    sA, eA = X[:2]\n",
    "    sB, eB = Y[:2]\n",
    "    \n",
    "    x = max(sA, sB)\n",
    "    y = min(eA, eB)\n",
    "    d = max(y - x, 0) \n",
    "    dA = 100.0 * d / float(eA - sA)\n",
    "\n",
    "    sA, eA = X[2:4]\n",
    "    sB, eB = Y[2:4]\n",
    "    \n",
    "    x = max(sA, sB)\n",
    "    y = min(eA, eB)\n",
    "    d = max(y - x, 0)\n",
    "    dB = 100.0 * d / float(eA - sA)\n",
    "\n",
    "    return (dA, dB)"
   ]
  },
  {
   "cell_type": "code",
   "execution_count": 30,
   "metadata": {
    "collapsed": true
   },
   "outputs": [],
   "source": [
    "with open(chr_interest + '.results.bed', 'w') as fw:\n",
    "    with open('../' + chr_interest + '.results') as f:\n",
    "        for i in range(6): next(f)\n",
    "        for l in f:\n",
    "            l = l.strip().split()\n",
    "            print >>fw, '{0}\\t{1}\\t{2}\\t{0}\\t{3}\\t{4}'.format(chr_interest, l[5], l[6], l[8], l[9])"
   ]
  },
  {
   "cell_type": "code",
   "execution_count": 37,
   "metadata": {},
   "outputs": [
    {
     "name": "stdout",
     "output_type": "stream",
     "text": [
      "135500 chr22.results.bed\n",
      "1802 chr22.intersect.bed\n"
     ]
    }
   ],
   "source": [
    "%%bash\n",
    "wc -l chr22.results.bed\n",
    "cat GRCh37GenomicSuperDup.tab | sed 1d | awk '$6==\"+\"' | cut -f1,2,3,7,8,9 | awk '$1==$4 && $1==\"chr22\"' > GRCh37GenomicSuperDup.bed\n",
    "bedtools pairtopair -a GRCh37GenomicSuperDup.bed -b chr22.results.bed -is -type both > chr22.intersect.bed\n",
    "wc -l chr22.intersect.bed"
   ]
  },
  {
   "cell_type": "code",
   "execution_count": 38,
   "metadata": {
    "collapsed": true,
    "scrolled": false
   },
   "outputs": [],
   "source": [
    "with open(chr_interest + '.intersect.bed') as f:\n",
    "    for l in f:\n",
    "        l = l.strip().split()\n",
    "        A = (int(l[1]), int(l[2]), int(l[4]), int(l[5]))\n",
    "        B = (int(l[7]), int(l[8]), int(l[10]), int(l[11]))\n",
    "        if A[0] > A[2]: continue\n",
    "        if A not in hits: \n",
    "            print('>> ooops', A)\n",
    "            continue\n",
    "        hits[A].append((diff(A, B), B))"
   ]
  },
  {
   "cell_type": "code",
   "execution_count": 41,
   "metadata": {},
   "outputs": [
    {
     "data": {
      "text/html": [
       "<div>\n",
       "<style>\n",
       "    .dataframe thead tr:only-child th {\n",
       "        text-align: right;\n",
       "    }\n",
       "\n",
       "    .dataframe thead th {\n",
       "        text-align: left;\n",
       "    }\n",
       "\n",
       "    .dataframe tbody tr th {\n",
       "        vertical-align: top;\n",
       "    }\n",
       "</style>\n",
       "<table border=\"1\" class=\"dataframe\">\n",
       "  <thead>\n",
       "    <tr style=\"text-align: right;\">\n",
       "      <th></th>\n",
       "      <th>chrom</th>\n",
       "      <th>chromStart</th>\n",
       "      <th>chromEnd</th>\n",
       "      <th>otherStart</th>\n",
       "      <th>otherEnd</th>\n",
       "      <th>fracMatchIndel</th>\n",
       "      <th>chromSize</th>\n",
       "    </tr>\n",
       "  </thead>\n",
       "  <tbody>\n",
       "    <tr>\n",
       "      <th>37132</th>\n",
       "      <td>chr22</td>\n",
       "      <td>20711532</td>\n",
       "      <td>20713302</td>\n",
       "      <td>20713376</td>\n",
       "      <td>20715249</td>\n",
       "      <td>0.914188</td>\n",
       "      <td>1770</td>\n",
       "    </tr>\n",
       "  </tbody>\n",
       "</table>\n",
       "</div>"
      ],
      "text/plain": [
       "       chrom  chromStart  chromEnd  otherStart  otherEnd  fracMatchIndel  \\\n",
       "37132  chr22    20711532  20713302    20713376  20715249        0.914188   \n",
       "\n",
       "       chromSize  \n",
       "37132       1770  "
      ]
     },
     "execution_count": 41,
     "metadata": {},
     "output_type": "execute_result"
    }
   ],
   "source": [
    "#  ((50.86688107648516, 52.56275784910146),\n",
    "#   (121361171, 121418375, 121418376, 121472478),\n",
    "#   (121350751, 121391239, 121444958, 121485446)),\n",
    "\n",
    "# _ _ _ 20,711,532  20,713,302 _...          |  20,713,376  20,715,249             [2k]\n",
    "# 20,708,000                      20,734,874 |  _ 20,713,972            20,740,846 [26k]\n",
    "\n",
    "df[df.chromStart==20711532]"
   ]
  },
  {
   "cell_type": "code",
   "execution_count": 40,
   "metadata": {
    "scrolled": false
   },
   "outputs": [
    {
     "data": {
      "text/plain": [
       "[((68.17939135077415, 100.0),\n",
       "  (20711532, 20713302, 20713376, 20715249),\n",
       "  (20708000, 20734874, 20713972, 20740846)),\n",
       " ((79.6049119060331, 100.0),\n",
       "  (20711532, 20713302, 20713376, 20715249),\n",
       "  (20707750, 20713573, 20709044, 20714867)),\n",
       " ((79.6049119060331, 100.0),\n",
       "  (20711532, 20713302, 20713376, 20715249),\n",
       "  (20707750, 20713573, 20709044, 20714867)),\n",
       " ((80.2228578238589, 100.0),\n",
       "  (20609431, 20626213, 25018053, 25035107),\n",
       "  (20612750, 30612750, 22986593, 32986593)),\n",
       " ((99.58884519127636, 100.0),\n",
       "  (20609431, 20626213, 25018053, 25035107),\n",
       "  (20609500, 30609500, 25017133, 35017133))]"
      ]
     },
     "metadata": {},
     "output_type": "display_data"
    }
   ],
   "source": [
    "haha = []\n",
    "for k, vs in hits.items():\n",
    "    ok = any(v[0][0] == 100 and v[0][1] == 100 for v in vs)\n",
    "    if not ok: \n",
    "        haha += sorted(\n",
    "            ((min(*pf), max(*pf)), k, px) for pf, px in vs\n",
    "        )\n",
    "#         print(k)\n",
    "#         for pf, px in vs:\n",
    "#             if pf[0]<50 or pf[1]<50:\n",
    "#                 print('*', end='')\n",
    "#             print('    {:3.0f} {:3.0f}: {}'.format(*pf, px))\n",
    "display(sorted(haha))"
   ]
  },
  {
   "cell_type": "code",
   "execution_count": 16,
   "metadata": {
    "collapsed": true
   },
   "outputs": [],
   "source": [
    "!tail -n+7 chr1.results | cut -d' ' -f3,4,6,7,8,9 > chr1.results.fixed"
   ]
  },
  {
   "cell_type": "code",
   "execution_count": 41,
   "metadata": {},
   "outputs": [
    {
     "data": {
      "text/html": [
       "<div>\n",
       "<style>\n",
       "    .dataframe thead tr:only-child th {\n",
       "        text-align: right;\n",
       "    }\n",
       "\n",
       "    .dataframe thead th {\n",
       "        text-align: left;\n",
       "    }\n",
       "\n",
       "    .dataframe tbody tr th {\n",
       "        vertical-align: top;\n",
       "    }\n",
       "</style>\n",
       "<table border=\"1\" class=\"dataframe\">\n",
       "  <thead>\n",
       "    <tr style=\"text-align: right;\">\n",
       "      <th></th>\n",
       "      <th>chromStart</th>\n",
       "      <th>chromEnd</th>\n",
       "      <th>otherStart</th>\n",
       "      <th>otherEnd</th>\n",
       "      <th>fracMatchIndel</th>\n",
       "      <th>preventionCause</th>\n",
       "      <th>chromSize</th>\n",
       "    </tr>\n",
       "  </thead>\n",
       "  <tbody>\n",
       "    <tr>\n",
       "      <th>0</th>\n",
       "      <td>10000</td>\n",
       "      <td>11000</td>\n",
       "      <td>0</td>\n",
       "      <td>1000</td>\n",
       "      <td>0.0000</td>\n",
       "      <td>2</td>\n",
       "      <td>1000</td>\n",
       "    </tr>\n",
       "    <tr>\n",
       "      <th>1</th>\n",
       "      <td>10000</td>\n",
       "      <td>12007</td>\n",
       "      <td>18579871</td>\n",
       "      <td>18581878</td>\n",
       "      <td>74.9542</td>\n",
       "      <td>2</td>\n",
       "      <td>2007</td>\n",
       "    </tr>\n",
       "    <tr>\n",
       "      <th>2</th>\n",
       "      <td>10000</td>\n",
       "      <td>12007</td>\n",
       "      <td>78593431</td>\n",
       "      <td>78595438</td>\n",
       "      <td>74.9542</td>\n",
       "      <td>2</td>\n",
       "      <td>2007</td>\n",
       "    </tr>\n",
       "    <tr>\n",
       "      <th>3</th>\n",
       "      <td>10000</td>\n",
       "      <td>11000</td>\n",
       "      <td>143273126</td>\n",
       "      <td>143274126</td>\n",
       "      <td>0.0000</td>\n",
       "      <td>2</td>\n",
       "      <td>1000</td>\n",
       "    </tr>\n",
       "    <tr>\n",
       "      <th>4</th>\n",
       "      <td>10000</td>\n",
       "      <td>11000</td>\n",
       "      <td>148926474</td>\n",
       "      <td>148927474</td>\n",
       "      <td>0.0000</td>\n",
       "      <td>2</td>\n",
       "      <td>1000</td>\n",
       "    </tr>\n",
       "  </tbody>\n",
       "</table>\n",
       "</div>"
      ],
      "text/plain": [
       "   chromStart  chromEnd  otherStart   otherEnd  fracMatchIndel  \\\n",
       "0       10000     11000           0       1000          0.0000   \n",
       "1       10000     12007    18579871   18581878         74.9542   \n",
       "2       10000     12007    78593431   78595438         74.9542   \n",
       "3       10000     11000   143273126  143274126          0.0000   \n",
       "4       10000     11000   148926474  148927474          0.0000   \n",
       "\n",
       "   preventionCause  chromSize  \n",
       "0                2       1000  \n",
       "1                2       2007  \n",
       "2                2       2007  \n",
       "3                2       1000  \n",
       "4                2       1000  "
      ]
     },
     "execution_count": 41,
     "metadata": {},
     "output_type": "execute_result"
    }
   ],
   "source": [
    "dx = pd.read_table('chr1.results.fixed', sep=' ', \n",
    "                   names='chromStart chromEnd otherStart otherEnd fracMatchIndel preventionCause'.split())\n",
    "dx.otherStart = dx.otherStart.apply(lambda x: x + 1)\n",
    "dx.otherEnd = dx.otherEnd.apply(lambda x: x + 1)\n",
    "dx['chromSize'] = dx.chromEnd - dx.chromStart\n",
    "#dx.chromSize = dx.apply(lambda x: x['chromSize'] if x['otherEnd'] - x['otherStart'] < x['chromSize']\n",
    "#                        else x['otherEnd'] - x['otherStart'], axis=1).map(int)\n",
    "dx.head()"
   ]
  },
  {
   "cell_type": "code",
   "execution_count": 39,
   "metadata": {},
   "outputs": [
    {
     "data": {
      "text/html": [
       "<div>\n",
       "<style>\n",
       "    .dataframe thead tr:only-child th {\n",
       "        text-align: right;\n",
       "    }\n",
       "\n",
       "    .dataframe thead th {\n",
       "        text-align: left;\n",
       "    }\n",
       "\n",
       "    .dataframe tbody tr th {\n",
       "        vertical-align: top;\n",
       "    }\n",
       "</style>\n",
       "<table border=\"1\" class=\"dataframe\">\n",
       "  <thead>\n",
       "    <tr style=\"text-align: right;\">\n",
       "      <th></th>\n",
       "      <th>chromStart</th>\n",
       "      <th>chromEnd</th>\n",
       "      <th>otherStart</th>\n",
       "      <th>otherEnd</th>\n",
       "      <th>fracMatchIndel</th>\n",
       "      <th>preventionCause</th>\n",
       "      <th>chromSize</th>\n",
       "    </tr>\n",
       "  </thead>\n",
       "  <tbody>\n",
       "    <tr>\n",
       "      <th>0</th>\n",
       "      <td>10000</td>\n",
       "      <td>11000</td>\n",
       "      <td>0</td>\n",
       "      <td>1000</td>\n",
       "      <td>0.0000</td>\n",
       "      <td>2</td>\n",
       "      <td>1000</td>\n",
       "    </tr>\n",
       "    <tr>\n",
       "      <th>1</th>\n",
       "      <td>10000</td>\n",
       "      <td>12007</td>\n",
       "      <td>18579871</td>\n",
       "      <td>18581878</td>\n",
       "      <td>74.9542</td>\n",
       "      <td>2</td>\n",
       "      <td>2007</td>\n",
       "    </tr>\n",
       "    <tr>\n",
       "      <th>2</th>\n",
       "      <td>10000</td>\n",
       "      <td>12007</td>\n",
       "      <td>78593431</td>\n",
       "      <td>78595438</td>\n",
       "      <td>74.9542</td>\n",
       "      <td>2</td>\n",
       "      <td>2007</td>\n",
       "    </tr>\n",
       "    <tr>\n",
       "      <th>3</th>\n",
       "      <td>10000</td>\n",
       "      <td>11000</td>\n",
       "      <td>143273126</td>\n",
       "      <td>143274126</td>\n",
       "      <td>0.0000</td>\n",
       "      <td>2</td>\n",
       "      <td>1000</td>\n",
       "    </tr>\n",
       "    <tr>\n",
       "      <th>4</th>\n",
       "      <td>10000</td>\n",
       "      <td>11000</td>\n",
       "      <td>148926474</td>\n",
       "      <td>148927474</td>\n",
       "      <td>0.0000</td>\n",
       "      <td>2</td>\n",
       "      <td>1000</td>\n",
       "    </tr>\n",
       "  </tbody>\n",
       "</table>\n",
       "</div>"
      ],
      "text/plain": [
       "   chromStart  chromEnd  otherStart   otherEnd  fracMatchIndel  \\\n",
       "0       10000     11000           0       1000          0.0000   \n",
       "1       10000     12007    18579871   18581878         74.9542   \n",
       "2       10000     12007    78593431   78595438         74.9542   \n",
       "3       10000     11000   143273126  143274126          0.0000   \n",
       "4       10000     11000   148926474  148927474          0.0000   \n",
       "\n",
       "   preventionCause  chromSize  \n",
       "0                2       1000  \n",
       "1                2       2007  \n",
       "2                2       2007  \n",
       "3                2       1000  \n",
       "4                2       1000  "
      ]
     },
     "execution_count": 39,
     "metadata": {},
     "output_type": "execute_result"
    }
   ],
   "source": [
    "dx = dx.head()\n",
    "dx['chromSize'] = dx.chromEnd - dx.chromStart\n",
    "dx.chromSize = dx.apply(lambda x: x['chromSize'] if x['otherEnd'] - x['otherStart'] < x['chromSize']\n",
    "                        else x['otherEnd'] - x['otherStart'], axis=1).map(int)\n",
    "dx"
   ]
  },
  {
   "cell_type": "code",
   "execution_count": 42,
   "metadata": {},
   "outputs": [
    {
     "ename": "KeyboardInterrupt",
     "evalue": "",
     "output_type": "error",
     "traceback": [
      "\u001b[0;31m---------------------------------------------------------------------------\u001b[0m",
      "\u001b[0;31mKeyboardInterrupt\u001b[0m                         Traceback (most recent call last)",
      "\u001b[0;32m<ipython-input-42-aa7376a6a1ba>\u001b[0m in \u001b[0;36m<module>\u001b[0;34m()\u001b[0m\n\u001b[0;32m----> 1\u001b[0;31m \u001b[0mpth\u001b[0m \u001b[0;34m=\u001b[0m \u001b[0msorted\u001b[0m\u001b[0;34m(\u001b[0m\u001b[0;34m(\u001b[0m\u001b[0mdr\u001b[0m\u001b[0;34m.\u001b[0m\u001b[0mchromStart\u001b[0m\u001b[0;34m,\u001b[0m \u001b[0mdr\u001b[0m\u001b[0;34m.\u001b[0m\u001b[0mchromEnd\u001b[0m\u001b[0;34m,\u001b[0m \u001b[0mdr\u001b[0m\u001b[0;34m.\u001b[0m\u001b[0motherStart\u001b[0m\u001b[0;34m,\u001b[0m \u001b[0mdr\u001b[0m\u001b[0;34m.\u001b[0m\u001b[0motherEnd\u001b[0m\u001b[0;34m)\u001b[0m \u001b[0;32mfor\u001b[0m \u001b[0md\u001b[0m\u001b[0;34m,\u001b[0m \u001b[0mdr\u001b[0m \u001b[0;32min\u001b[0m \u001b[0mdx\u001b[0m\u001b[0;34m.\u001b[0m\u001b[0miterrows\u001b[0m\u001b[0;34m(\u001b[0m\u001b[0;34m)\u001b[0m\u001b[0;34m)\u001b[0m\u001b[0;34m\u001b[0m\u001b[0m\n\u001b[0m\u001b[1;32m      2\u001b[0m \u001b[0mpth\u001b[0m\u001b[0;34m[\u001b[0m\u001b[0;36m0\u001b[0m\u001b[0;34m]\u001b[0m\u001b[0;34m\u001b[0m\u001b[0m\n",
      "\u001b[0;32m<ipython-input-42-aa7376a6a1ba>\u001b[0m in \u001b[0;36m<genexpr>\u001b[0;34m(.0)\u001b[0m\n\u001b[0;32m----> 1\u001b[0;31m \u001b[0mpth\u001b[0m \u001b[0;34m=\u001b[0m \u001b[0msorted\u001b[0m\u001b[0;34m(\u001b[0m\u001b[0;34m(\u001b[0m\u001b[0mdr\u001b[0m\u001b[0;34m.\u001b[0m\u001b[0mchromStart\u001b[0m\u001b[0;34m,\u001b[0m \u001b[0mdr\u001b[0m\u001b[0;34m.\u001b[0m\u001b[0mchromEnd\u001b[0m\u001b[0;34m,\u001b[0m \u001b[0mdr\u001b[0m\u001b[0;34m.\u001b[0m\u001b[0motherStart\u001b[0m\u001b[0;34m,\u001b[0m \u001b[0mdr\u001b[0m\u001b[0;34m.\u001b[0m\u001b[0motherEnd\u001b[0m\u001b[0;34m)\u001b[0m \u001b[0;32mfor\u001b[0m \u001b[0md\u001b[0m\u001b[0;34m,\u001b[0m \u001b[0mdr\u001b[0m \u001b[0;32min\u001b[0m \u001b[0mdx\u001b[0m\u001b[0;34m.\u001b[0m\u001b[0miterrows\u001b[0m\u001b[0;34m(\u001b[0m\u001b[0;34m)\u001b[0m\u001b[0;34m)\u001b[0m\u001b[0;34m\u001b[0m\u001b[0m\n\u001b[0m\u001b[1;32m      2\u001b[0m \u001b[0mpth\u001b[0m\u001b[0;34m[\u001b[0m\u001b[0;36m0\u001b[0m\u001b[0;34m]\u001b[0m\u001b[0;34m\u001b[0m\u001b[0m\n",
      "\u001b[0;32m~/.pyenv/versions/3.6.2/envs/general/lib/python3.6/site-packages/pandas/core/frame.py\u001b[0m in \u001b[0;36miterrows\u001b[0;34m(self)\u001b[0m\n\u001b[1;32m    696\u001b[0m         \u001b[0mklass\u001b[0m \u001b[0;34m=\u001b[0m \u001b[0mself\u001b[0m\u001b[0;34m.\u001b[0m\u001b[0m_constructor_sliced\u001b[0m\u001b[0;34m\u001b[0m\u001b[0m\n\u001b[1;32m    697\u001b[0m         \u001b[0;32mfor\u001b[0m \u001b[0mk\u001b[0m\u001b[0;34m,\u001b[0m \u001b[0mv\u001b[0m \u001b[0;32min\u001b[0m \u001b[0mzip\u001b[0m\u001b[0;34m(\u001b[0m\u001b[0mself\u001b[0m\u001b[0;34m.\u001b[0m\u001b[0mindex\u001b[0m\u001b[0;34m,\u001b[0m \u001b[0mself\u001b[0m\u001b[0;34m.\u001b[0m\u001b[0mvalues\u001b[0m\u001b[0;34m)\u001b[0m\u001b[0;34m:\u001b[0m\u001b[0;34m\u001b[0m\u001b[0m\n\u001b[0;32m--> 698\u001b[0;31m             \u001b[0ms\u001b[0m \u001b[0;34m=\u001b[0m \u001b[0mklass\u001b[0m\u001b[0;34m(\u001b[0m\u001b[0mv\u001b[0m\u001b[0;34m,\u001b[0m \u001b[0mindex\u001b[0m\u001b[0;34m=\u001b[0m\u001b[0mcolumns\u001b[0m\u001b[0;34m,\u001b[0m \u001b[0mname\u001b[0m\u001b[0;34m=\u001b[0m\u001b[0mk\u001b[0m\u001b[0;34m)\u001b[0m\u001b[0;34m\u001b[0m\u001b[0m\n\u001b[0m\u001b[1;32m    699\u001b[0m             \u001b[0;32myield\u001b[0m \u001b[0mk\u001b[0m\u001b[0;34m,\u001b[0m \u001b[0ms\u001b[0m\u001b[0;34m\u001b[0m\u001b[0m\n\u001b[1;32m    700\u001b[0m \u001b[0;34m\u001b[0m\u001b[0m\n",
      "\u001b[0;32m~/.pyenv/versions/3.6.2/envs/general/lib/python3.6/site-packages/pandas/core/series.py\u001b[0m in \u001b[0;36m__init__\u001b[0;34m(self, data, index, dtype, name, copy, fastpath)\u001b[0m\n\u001b[1;32m    248\u001b[0m                                        raise_cast_failure=True)\n\u001b[1;32m    249\u001b[0m \u001b[0;34m\u001b[0m\u001b[0m\n\u001b[0;32m--> 250\u001b[0;31m                 \u001b[0mdata\u001b[0m \u001b[0;34m=\u001b[0m \u001b[0mSingleBlockManager\u001b[0m\u001b[0;34m(\u001b[0m\u001b[0mdata\u001b[0m\u001b[0;34m,\u001b[0m \u001b[0mindex\u001b[0m\u001b[0;34m,\u001b[0m \u001b[0mfastpath\u001b[0m\u001b[0;34m=\u001b[0m\u001b[0;32mTrue\u001b[0m\u001b[0;34m)\u001b[0m\u001b[0;34m\u001b[0m\u001b[0m\n\u001b[0m\u001b[1;32m    251\u001b[0m \u001b[0;34m\u001b[0m\u001b[0m\n\u001b[1;32m    252\u001b[0m         \u001b[0mgeneric\u001b[0m\u001b[0;34m.\u001b[0m\u001b[0mNDFrame\u001b[0m\u001b[0;34m.\u001b[0m\u001b[0m__init__\u001b[0m\u001b[0;34m(\u001b[0m\u001b[0mself\u001b[0m\u001b[0;34m,\u001b[0m \u001b[0mdata\u001b[0m\u001b[0;34m,\u001b[0m \u001b[0mfastpath\u001b[0m\u001b[0;34m=\u001b[0m\u001b[0;32mTrue\u001b[0m\u001b[0;34m)\u001b[0m\u001b[0;34m\u001b[0m\u001b[0m\n",
      "\u001b[0;32m~/.pyenv/versions/3.6.2/envs/general/lib/python3.6/site-packages/pandas/core/internals.py\u001b[0m in \u001b[0;36m__init__\u001b[0;34m(self, block, axis, do_integrity_check, fastpath)\u001b[0m\n\u001b[1;32m   4115\u001b[0m         \u001b[0;32mif\u001b[0m \u001b[0;32mnot\u001b[0m \u001b[0misinstance\u001b[0m\u001b[0;34m(\u001b[0m\u001b[0mblock\u001b[0m\u001b[0;34m,\u001b[0m \u001b[0mBlock\u001b[0m\u001b[0;34m)\u001b[0m\u001b[0;34m:\u001b[0m\u001b[0;34m\u001b[0m\u001b[0m\n\u001b[1;32m   4116\u001b[0m             block = make_block(block, placement=slice(0, len(axis)), ndim=1,\n\u001b[0;32m-> 4117\u001b[0;31m                                fastpath=True)\n\u001b[0m\u001b[1;32m   4118\u001b[0m \u001b[0;34m\u001b[0m\u001b[0m\n\u001b[1;32m   4119\u001b[0m         \u001b[0mself\u001b[0m\u001b[0;34m.\u001b[0m\u001b[0mblocks\u001b[0m \u001b[0;34m=\u001b[0m \u001b[0;34m[\u001b[0m\u001b[0mblock\u001b[0m\u001b[0;34m]\u001b[0m\u001b[0;34m\u001b[0m\u001b[0m\n",
      "\u001b[0;32m~/.pyenv/versions/3.6.2/envs/general/lib/python3.6/site-packages/pandas/core/internals.py\u001b[0m in \u001b[0;36mmake_block\u001b[0;34m(values, placement, klass, ndim, dtype, fastpath)\u001b[0m\n\u001b[1;32m   2687\u001b[0m         \u001b[0mvtype\u001b[0m \u001b[0;34m=\u001b[0m \u001b[0mdtype\u001b[0m\u001b[0;34m.\u001b[0m\u001b[0mtype\u001b[0m\u001b[0;34m\u001b[0m\u001b[0m\n\u001b[1;32m   2688\u001b[0m \u001b[0;34m\u001b[0m\u001b[0m\n\u001b[0;32m-> 2689\u001b[0;31m         \u001b[0;32mif\u001b[0m \u001b[0misinstance\u001b[0m\u001b[0;34m(\u001b[0m\u001b[0mvalues\u001b[0m\u001b[0;34m,\u001b[0m \u001b[0mSparseArray\u001b[0m\u001b[0;34m)\u001b[0m\u001b[0;34m:\u001b[0m\u001b[0;34m\u001b[0m\u001b[0m\n\u001b[0m\u001b[1;32m   2690\u001b[0m             \u001b[0mklass\u001b[0m \u001b[0;34m=\u001b[0m \u001b[0mSparseBlock\u001b[0m\u001b[0;34m\u001b[0m\u001b[0m\n\u001b[1;32m   2691\u001b[0m         \u001b[0;32melif\u001b[0m \u001b[0missubclass\u001b[0m\u001b[0;34m(\u001b[0m\u001b[0mvtype\u001b[0m\u001b[0;34m,\u001b[0m \u001b[0mnp\u001b[0m\u001b[0;34m.\u001b[0m\u001b[0mfloating\u001b[0m\u001b[0;34m)\u001b[0m\u001b[0;34m:\u001b[0m\u001b[0;34m\u001b[0m\u001b[0m\n",
      "\u001b[0;31mKeyboardInterrupt\u001b[0m: "
     ]
    }
   ],
   "source": [
    "pth = sorted((dr.chromStart, dr.chromEnd, dr.otherStart, dr.otherEnd) for d, dr in dx.iterrows())\n",
    "pth[0]"
   ]
  },
  {
   "cell_type": "code",
   "execution_count": null,
   "metadata": {
    "collapsed": true
   },
   "outputs": [],
   "source": [
    "from bisect import bisect_left\n",
    "\n",
    "def binary_search(a, x, lo=0, hi=None):  # can't use a to specify default for hi\n",
    "    hi = hi if hi is not None else len(a)  # hi defaults to len(a)   \n",
    "    pos = bisect_left(a, x, lo, hi)  # find insertion position\n",
    "    return (pos if pos != hi and a[pos] == x else -1)  # don't walk off the end\n"
   ]
  },
  {
   "cell_type": "markdown",
   "metadata": {},
   "source": [
    "## MashMap scratch"
   ]
  },
  {
   "cell_type": "code",
   "execution_count": null,
   "metadata": {
    "collapsed": true
   },
   "outputs": [],
   "source": [
    "reference_mashmap = list(reference)\n",
    "with open('query.fa', 'w') as f:\n",
    "    for ri, r in list(df.iterrows())[:5]:\n",
    "        print >>f, '>seq{} {}-{} {}-{} ({} or {})'.format(\n",
    "           ri, r.chromStart, r.chromEnd, r.otherStart, r.otherEnd, r.fracMatch, r.fracMatchIndel)\n",
    "        print >>f, reference[r.chromStart:r.chromEnd]\n",
    "        for i in xrange(r.chromStart, r.chromEnd):\n",
    "            reference_mashmap[i] = 'N'\n",
    "with open('reference.fa', 'w') as f:\n",
    "    print >>f, '>chr1'\n",
    "    print >>f, ''.join(reference_mashmap)"
   ]
  },
  {
   "cell_type": "code",
   "execution_count": 4,
   "metadata": {},
   "outputs": [
    {
     "name": "stdout",
     "output_type": "stream",
     "text": [
      ">>>>>>>>>>>>>>>>>>\n",
      "Reference = [reference.fa]\n",
      "Query = [query.fa]\n",
      "Kmer size = 16\n",
      "Window size = 22\n",
      "Minimum alignment length >= 1000\n",
      "Alphabet = DNA\n",
      "Percentage identity threshold = 85\n",
      "Mapping output file = query.mashmap\n",
      "Filter mode = 1 (1 = map, 2 = one-to-one, 3 = none)\n",
      ">>>>>>>>>>>>>>>>>>\n",
      "INFO, skch::Sketch::build, minimizers picked from reference = 19596618\n",
      "INFO, skch::Sketch::index, unique minimizers = 13676516\n",
      "INFO, skch::Sketch::computeFreqHist, Frequency histogram of minimizers = (1, 11618003) ... (23956, 1)\n",
      "INFO, skch::Sketch::computeFreqHist, With threshold 0.001%, ignore minimizers occurring >= 1572 times during lookup.\n",
      "INFO, skch::main, Time spent computing the reference index: 20.7821 sec\n",
      "INFO, skch::Map::mapQuery, [count of mapped reads, reads qualified for mapping, total input reads] = [5, 5, 5]\n",
      "INFO, skch::main, Time spent mapping the query : 0.0854692 sec\n",
      "INFO, skch::main, mapping results saved in : query.mashmap\n",
      "27.51user 0.74system 0:28.34elapsed 99%CPU (0avgtext+0avgdata 1589248maxresident)k\n",
      "464inputs+8outputs (1major+788317minor)pagefaults 0swaps\n"
     ]
    }
   ],
   "source": [
    "!time ./MashMap/mashmap -s reference.fa -q query.fa -o query.mashmap -m 1000"
   ]
  },
  {
   "cell_type": "code",
   "execution_count": 10,
   "metadata": {},
   "outputs": [
    {
     "data": {
      "text/html": [
       "<div>\n",
       "<style>\n",
       "    .dataframe thead tr:only-child th {\n",
       "        text-align: right;\n",
       "    }\n",
       "\n",
       "    .dataframe thead th {\n",
       "        text-align: left;\n",
       "    }\n",
       "\n",
       "    .dataframe tbody tr th {\n",
       "        vertical-align: top;\n",
       "    }\n",
       "</style>\n",
       "<table border=\"1\" class=\"dataframe\">\n",
       "  <thead>\n",
       "    <tr style=\"text-align: right;\">\n",
       "      <th></th>\n",
       "      <th>rname</th>\n",
       "      <th>len</th>\n",
       "      <th>start</th>\n",
       "      <th>end</th>\n",
       "      <th>strand</th>\n",
       "      <th>chrName</th>\n",
       "      <th>chrLen</th>\n",
       "      <th>chrStart</th>\n",
       "      <th>chrEnd</th>\n",
       "      <th>sim</th>\n",
       "      <th>j</th>\n",
       "      <th>w</th>\n",
       "    </tr>\n",
       "  </thead>\n",
       "  <tbody>\n",
       "    <tr>\n",
       "      <th>1</th>\n",
       "      <td>seq4</td>\n",
       "      <td>1136</td>\n",
       "      <td>0</td>\n",
       "      <td>1135</td>\n",
       "      <td>+</td>\n",
       "      <td>chr1</td>\n",
       "      <td>249250621</td>\n",
       "      <td>521351</td>\n",
       "      <td>522486</td>\n",
       "      <td>97.4217</td>\n",
       "      <td>47</td>\n",
       "      <td>95</td>\n",
       "    </tr>\n",
       "    <tr>\n",
       "      <th>4</th>\n",
       "      <td>seq40</td>\n",
       "      <td>1134</td>\n",
       "      <td>0</td>\n",
       "      <td>1133</td>\n",
       "      <td>+</td>\n",
       "      <td>chr1</td>\n",
       "      <td>249250621</td>\n",
       "      <td>521366</td>\n",
       "      <td>522499</td>\n",
       "      <td>97.7159</td>\n",
       "      <td>51</td>\n",
       "      <td>96</td>\n",
       "    </tr>\n",
       "  </tbody>\n",
       "</table>\n",
       "</div>"
      ],
      "text/plain": [
       "   rname   len  start   end strand chrName     chrLen  chrStart  chrEnd  \\\n",
       "1   seq4  1136      0  1135      +    chr1  249250621    521351  522486   \n",
       "4  seq40  1134      0  1133      +    chr1  249250621    521366  522499   \n",
       "\n",
       "       sim   j   w  \n",
       "1  97.4217  47  95  \n",
       "4  97.7159  51  96  "
      ]
     },
     "execution_count": 10,
     "metadata": {},
     "output_type": "execute_result"
    }
   ],
   "source": [
    "dm = pd.read_table(\"query.mashmap\", sep=' ', names='rname len start end strand chrName chrLen chrStart chrEnd sim j w'.split())\n",
    "dm[dm.strand == '+']"
   ]
  },
  {
   "cell_type": "code",
   "execution_count": 5,
   "metadata": {},
   "outputs": [
    {
     "name": "stdout",
     "output_type": "stream",
     "text": [
      "chr1\t137324\t137573\t0\tchr1\t327153\t327402\r\n",
      "chr1\t135051\t135300\t0\tchr1\t138045\t138294\r\n"
     ]
    }
   ],
   "source": [
    "!cat chr1.s2 | grep -v '^#' | cut -f2-8 > chr1.s2_coord\n",
    "!head -n2 chr1.s2_coord"
   ]
  },
  {
   "cell_type": "code",
   "execution_count": 6,
   "metadata": {},
   "outputs": [
    {
     "name": "stdout",
     "output_type": "stream",
     "text": [
      "(17727, 9)\n"
     ]
    },
    {
     "data": {
      "text/html": [
       "<div>\n",
       "<style>\n",
       "    .dataframe thead tr:only-child th {\n",
       "        text-align: right;\n",
       "    }\n",
       "\n",
       "    .dataframe thead th {\n",
       "        text-align: left;\n",
       "    }\n",
       "\n",
       "    .dataframe tbody tr th {\n",
       "        vertical-align: top;\n",
       "    }\n",
       "</style>\n",
       "<table border=\"1\" class=\"dataframe\">\n",
       "  <thead>\n",
       "    <tr style=\"text-align: right;\">\n",
       "      <th></th>\n",
       "      <th>chrom</th>\n",
       "      <th>chromStart</th>\n",
       "      <th>chromEnd</th>\n",
       "      <th>strand</th>\n",
       "      <th>otherChrom</th>\n",
       "      <th>otherStart</th>\n",
       "      <th>otherEnd</th>\n",
       "      <th>chromSize</th>\n",
       "      <th>otherSize</th>\n",
       "    </tr>\n",
       "  </thead>\n",
       "  <tbody>\n",
       "    <tr>\n",
       "      <th>0</th>\n",
       "      <td>chr1</td>\n",
       "      <td>137324</td>\n",
       "      <td>137573</td>\n",
       "      <td>0</td>\n",
       "      <td>chr1</td>\n",
       "      <td>327153</td>\n",
       "      <td>327402</td>\n",
       "      <td>249</td>\n",
       "      <td>249</td>\n",
       "    </tr>\n",
       "    <tr>\n",
       "      <th>1</th>\n",
       "      <td>chr1</td>\n",
       "      <td>135051</td>\n",
       "      <td>135300</td>\n",
       "      <td>0</td>\n",
       "      <td>chr1</td>\n",
       "      <td>138045</td>\n",
       "      <td>138294</td>\n",
       "      <td>249</td>\n",
       "      <td>249</td>\n",
       "    </tr>\n",
       "    <tr>\n",
       "      <th>3</th>\n",
       "      <td>chr1</td>\n",
       "      <td>135559</td>\n",
       "      <td>135808</td>\n",
       "      <td>0</td>\n",
       "      <td>chr1</td>\n",
       "      <td>137662</td>\n",
       "      <td>137911</td>\n",
       "      <td>249</td>\n",
       "      <td>249</td>\n",
       "    </tr>\n",
       "    <tr>\n",
       "      <th>8</th>\n",
       "      <td>chr1</td>\n",
       "      <td>137326</td>\n",
       "      <td>137607</td>\n",
       "      <td>0</td>\n",
       "      <td>chr1</td>\n",
       "      <td>228159632</td>\n",
       "      <td>228159913</td>\n",
       "      <td>281</td>\n",
       "      <td>281</td>\n",
       "    </tr>\n",
       "    <tr>\n",
       "      <th>9</th>\n",
       "      <td>chr1</td>\n",
       "      <td>137326</td>\n",
       "      <td>137607</td>\n",
       "      <td>0</td>\n",
       "      <td>chr1</td>\n",
       "      <td>228160763</td>\n",
       "      <td>228161044</td>\n",
       "      <td>281</td>\n",
       "      <td>281</td>\n",
       "    </tr>\n",
       "  </tbody>\n",
       "</table>\n",
       "</div>"
      ],
      "text/plain": [
       "  chrom  chromStart  chromEnd  strand otherChrom  otherStart   otherEnd  \\\n",
       "0  chr1      137324    137573       0       chr1      327153     327402   \n",
       "1  chr1      135051    135300       0       chr1      138045     138294   \n",
       "3  chr1      135559    135808       0       chr1      137662     137911   \n",
       "8  chr1      137326    137607       0       chr1   228159632  228159913   \n",
       "9  chr1      137326    137607       0       chr1   228160763  228161044   \n",
       "\n",
       "   chromSize  otherSize  \n",
       "0        249        249  \n",
       "1        249        249  \n",
       "3        249        249  \n",
       "8        281        281  \n",
       "9        281        281  "
      ]
     },
     "execution_count": 6,
     "metadata": {},
     "output_type": "execute_result"
    }
   ],
   "source": [
    "df = pd.read_table(\"chr1.s2_coord\", \n",
    "                   names='chrom chromStart chromEnd strand otherChrom otherStart otherEnd'.split())\n",
    "df = df[(df.chrom == \"chr1\") & (df.otherChrom == \"chr1\") & (df.chromStart < df.otherStart)]\n",
    "df['chromSize'] = df.chromEnd - df.chromStart\n",
    "df['otherSize'] = df.otherEnd - df.otherStart\n",
    "print df.shape\n",
    "df[(df.otherSize < 3000) & (df.strand < 1)].head()"
   ]
  }
 ],
 "metadata": {
  "kernelspec": {
   "display_name": "Python 2",
   "language": "python",
   "name": "python2"
  },
  "language_info": {
   "codemirror_mode": {
    "name": "ipython",
    "version": 2
   },
   "file_extension": ".py",
   "mimetype": "text/x-python",
   "name": "python",
   "nbconvert_exporter": "python",
   "pygments_lexer": "ipython2",
   "version": "2.7.12"
  }
 },
 "nbformat": 4,
 "nbformat_minor": 2
}
